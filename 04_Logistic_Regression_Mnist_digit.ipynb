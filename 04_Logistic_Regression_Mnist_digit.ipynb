{
  "nbformat": 4,
  "nbformat_minor": 0,
  "metadata": {
    "colab": {
      "name": "04-Logistic-Regression-Mnist-digit",
      "provenance": [],
      "authorship_tag": "ABX9TyMkwRIu4gskmnFmyeeuWmby",
      "include_colab_link": true
    },
    "kernelspec": {
      "name": "python3",
      "display_name": "Python 3"
    }
  },
  "cells": [
    {
      "cell_type": "markdown",
      "metadata": {
        "id": "view-in-github",
        "colab_type": "text"
      },
      "source": [
        "<a href=\"https://colab.research.google.com/github/bellrd/DeepLearning-course/blob/master/04_Logistic_Regression_Mnist_digit.ipynb\" target=\"_parent\"><img src=\"https://colab.research.google.com/assets/colab-badge.svg\" alt=\"Open In Colab\"/></a>"
      ]
    },
    {
      "cell_type": "code",
      "metadata": {
        "id": "3K-7lyQPDnSM",
        "colab_type": "code",
        "colab": {}
      },
      "source": [
        "#import and library\n",
        "\n",
        "import torch\n",
        "import torch.nn as nn\n"
      ],
      "execution_count": 1,
      "outputs": []
    },
    {
      "cell_type": "code",
      "metadata": {
        "id": "TuVnSngRa9oI",
        "colab_type": "code",
        "colab": {}
      },
      "source": [
        ""
      ],
      "execution_count": null,
      "outputs": []
    }
  ]
}